{
 "cells": [
  {
   "cell_type": "markdown",
   "metadata": {
    "colab_type": "text",
    "id": "kV7M_lSxBxzF"
   },
   "source": [
    "# Laboratório de Física Moderna\n",
    "## Análise de dados do experimento razão carga-massa\n",
    "###  Autor: Thiago Ferreira Santos"
   ]
  },
  {
   "cell_type": "markdown",
   "metadata": {
    "colab_type": "text",
    "id": "yQLexPylBxzP"
   },
   "source": [
    "Carregando o [módulo Python Uncertainties](https://pythonhosted.org/uncertainties/ \"site 'Welcome to the uncertainties package'\"), que calcula a propagação de incertezas:"
   ]
  },
  {
   "cell_type": "code",
   "execution_count": 1,
   "metadata": {
    "colab": {},
    "colab_type": "code",
    "id": "04ejhT10BxzQ"
   },
   "outputs": [],
   "source": [
    "from uncertainties import *"
   ]
  },
  {
   "cell_type": "markdown",
   "metadata": {
    "colab_type": "text",
    "id": "8aIty4slBxzS"
   },
   "source": [
    "### Definição de parâmetros e fórmulas com incertezas"
   ]
  },
  {
   "cell_type": "markdown",
   "metadata": {
    "colab_type": "text",
    "id": "DVelilzoBxzT"
   },
   "source": [
    "Permissividade elétrica no vácuo $\\mu_{0} = 1,26 \\times 10^{-6}$ $Vs/Am$"
   ]
  },
  {
   "cell_type": "code",
   "execution_count": 2,
   "metadata": {
    "colab": {},
    "colab_type": "code",
    "id": "ogepLkgNBxzT"
   },
   "outputs": [],
   "source": [
    "u0 = 1.26e-6"
   ]
  },
  {
   "cell_type": "markdown",
   "metadata": {
    "colab_type": "text",
    "id": "M1ErOYhKBxzW"
   },
   "source": [
    "Para o arranjo de Helmholtz com duas bobinas, temos: $R = 0,20$ $m$"
   ]
  },
  {
   "cell_type": "code",
   "execution_count": 3,
   "metadata": {
    "colab": {},
    "colab_type": "code",
    "id": "6tbwZyZ4BxzW"
   },
   "outputs": [],
   "source": [
    "R = 0.20"
   ]
  },
  {
   "cell_type": "markdown",
   "metadata": {
    "colab_type": "text",
    "id": "bYll-3lABxzZ"
   },
   "source": [
    "Número de espiras $n = 154$"
   ]
  },
  {
   "cell_type": "code",
   "execution_count": 4,
   "metadata": {
    "colab": {},
    "colab_type": "code",
    "id": "uZc8bzgDBxzZ"
   },
   "outputs": [],
   "source": [
    "n = 154"
   ]
  },
  {
   "cell_type": "markdown",
   "metadata": {},
   "source": [
    "Raios da trajetória do elétron:"
   ]
  },
  {
   "cell_type": "markdown",
   "metadata": {
    "colab_type": "text",
    "id": "SYcE1juABxze"
   },
   "source": [
    "$r_{1} = 0,02$ $m$"
   ]
  },
  {
   "cell_type": "code",
   "execution_count": 5,
   "metadata": {
    "colab": {},
    "colab_type": "code",
    "id": "BP6AbFB8Bxze"
   },
   "outputs": [],
   "source": [
    "r1 = 0.02"
   ]
  },
  {
   "cell_type": "markdown",
   "metadata": {
    "colab_type": "text",
    "id": "WAm47967Bxzi"
   },
   "source": [
    "$r_{2} = 0,03$ $m$"
   ]
  },
  {
   "cell_type": "code",
   "execution_count": 6,
   "metadata": {
    "colab": {},
    "colab_type": "code",
    "id": "OR9ciSbCBxzi"
   },
   "outputs": [],
   "source": [
    "r2 = 0.03"
   ]
  },
  {
   "cell_type": "markdown",
   "metadata": {
    "colab_type": "text",
    "id": "iiqPMvLdBxzk"
   },
   "source": [
    "$r_{3} = 0,04$ $m$"
   ]
  },
  {
   "cell_type": "code",
   "execution_count": 7,
   "metadata": {
    "colab": {},
    "colab_type": "code",
    "id": "2z0V5L7wBxzl"
   },
   "outputs": [],
   "source": [
    "r3 = 0.04"
   ]
  },
  {
   "cell_type": "markdown",
   "metadata": {
    "colab_type": "text",
    "id": "oXkyAUyzBxzn"
   },
   "source": [
    "$r_{4} = 0,05$ $m$"
   ]
  },
  {
   "cell_type": "code",
   "execution_count": 8,
   "metadata": {
    "colab": {},
    "colab_type": "code",
    "id": "pIV26X-lBxzo"
   },
   "outputs": [],
   "source": [
    "r4 = 0.05"
   ]
  },
  {
   "cell_type": "markdown",
   "metadata": {
    "colab_type": "text",
    "id": "KUHR0eEZBxzr"
   },
   "source": [
    "### Propagação de incertezas para uma lista de valores"
   ]
  },
  {
   "cell_type": "markdown",
   "metadata": {
    "colab_type": "text",
    "id": "CMpkZ43-Bxzs"
   },
   "source": [
    "Carregando o [sub-módulo unumpy do módulo Uncertainties](https://pythonhosted.org/uncertainties/numpy_guide.html \"Uncertainties in arrays\") para lidar com vetor/lista de valores com incertezas:"
   ]
  },
  {
   "cell_type": "code",
   "execution_count": 9,
   "metadata": {
    "colab": {},
    "colab_type": "code",
    "id": "ZtMAP0X5Bxzs"
   },
   "outputs": [],
   "source": [
    "from uncertainties import unumpy"
   ]
  },
  {
   "cell_type": "markdown",
   "metadata": {
    "colab_type": "text",
    "id": "2Cx9na3YBxzw"
   },
   "source": [
    "Usa-se a função unumpy.uarray() para criar lista de valores com incertezas."
   ]
  },
  {
   "cell_type": "markdown",
   "metadata": {
    "colab_type": "text",
    "id": "AhD88JdIBxzw"
   },
   "source": [
    "### Determinando razão carga/massa da configuração $r_{1} = 0,02$ $m$"
   ]
  },
  {
   "cell_type": "markdown",
   "metadata": {
    "colab_type": "text",
    "id": "_LYcNTBzBxzw"
   },
   "source": [
    "Tensão elétrica $U(V)$:"
   ]
  },
  {
   "cell_type": "code",
   "execution_count": 10,
   "metadata": {
    "colab": {
     "base_uri": "https://localhost:8080/",
     "height": 51
    },
    "colab_type": "code",
    "id": "5uStN3PiBxzx",
    "outputId": "18ae2783-ead4-4e67-ea1f-1efc304b1f36"
   },
   "outputs": [
    {
     "name": "stdout",
     "output_type": "stream",
     "text": [
      "[100.0+/-0.8 120.0+/-0.9 140.0+/-1.0 160.0+/-1.0 180.0+/-1.0 200.0+/-1.0\n",
      " 220.0+/-1.0 240.0+/-2.0 260.0+/-2.0]\n"
     ]
    }
   ],
   "source": [
    "U1vetor = unumpy.uarray([100, 120, 140, 160, 180, 200, 220, 240, 260],[0.8, 0.9, 1, 1, 1, 1, 1, 2, 2])\n",
    "print(U1vetor)"
   ]
  },
  {
   "cell_type": "markdown",
   "metadata": {
    "colab_type": "text",
    "id": "m9FrFPlPBxzz"
   },
   "source": [
    "Corrente elétrica $I(A)$:"
   ]
  },
  {
   "cell_type": "code",
   "execution_count": 11,
   "metadata": {
    "colab": {
     "base_uri": "https://localhost:8080/",
     "height": 51
    },
    "colab_type": "code",
    "id": "WRKsjajNBxz0",
    "outputId": "f0d9994c-9da6-4f11-8857-9fda4b13dcef"
   },
   "outputs": [
    {
     "name": "stdout",
     "output_type": "stream",
     "text": [
      "[2.16+/-0.27 2.64+/-0.28 2.95+/-0.29 3.07+/-0.29 3.3+/-0.3 3.5+/-0.3\n",
      " 3.8+/-0.3 4.0+/-0.3 4.0+/-0.3]\n"
     ]
    }
   ],
   "source": [
    "I1vetor = unumpy.uarray([2.16, 2.64, 2.95, 3.07, 3.3, 3.5, 3.8, 4, 4],[0.27, 0.28, 0.29, 0.29, 0.3, 0.3, 0.3, 0.3, 0.3])\n",
    "print(I1vetor)"
   ]
  },
  {
   "cell_type": "markdown",
   "metadata": {
    "colab_type": "text",
    "id": "VfXYdut1Bxz3"
   },
   "source": [
    "Calculando o campo magnético, $B = \\left(\\frac{4}{3}\\right)^{\\frac{3}{2}} \\mu_{0} n \\frac{I}{R}$"
   ]
  },
  {
   "cell_type": "code",
   "execution_count": 12,
   "metadata": {
    "colab": {
     "base_uri": "https://localhost:8080/",
     "height": 170
    },
    "colab_type": "code",
    "id": "o0aOwY1gBxz3",
    "outputId": "8875ed61-1432-4ac9-fca0-1559e72bf013"
   },
   "outputs": [
    {
     "name": "stdout",
     "output_type": "stream",
     "text": [
      "Campo magnético = (1.50+/-0.19)e-03 T\n",
      "Campo magnético = (1.83+/-0.19)e-03 T\n",
      "Campo magnético = (2.05+/-0.20)e-03 T\n",
      "Campo magnético = (2.13+/-0.20)e-03 T\n",
      "Campo magnético = (2.29+/-0.21)e-03 T\n",
      "Campo magnético = (2.43+/-0.21)e-03 T\n",
      "Campo magnético = (2.64+/-0.21)e-03 T\n",
      "Campo magnético = (2.78+/-0.21)e-03 T\n",
      "Campo magnético = (2.78+/-0.21)e-03 T\n"
     ]
    }
   ],
   "source": [
    "B1vetor = ((4/5)**(3/2))*u0*n*(I1vetor/R)\n",
    "for x in B1vetor:\n",
    "    print(\"Campo magnético = {0:.e} T\".format(x))"
   ]
  },
  {
   "cell_type": "markdown",
   "metadata": {
    "colab_type": "text",
    "id": "tlf6tx24Bxz6"
   },
   "source": [
    "Razão carga-massa $(e/m)$:"
   ]
  },
  {
   "cell_type": "code",
   "execution_count": 13,
   "metadata": {
    "colab": {
     "base_uri": "https://localhost:8080/",
     "height": 170
    },
    "colab_type": "code",
    "id": "Cqcx7KeIBxz6",
    "outputId": "9eb5df62-d1cf-4979-b756-a81bac86d9e2"
   },
   "outputs": [
    {
     "name": "stdout",
     "output_type": "stream",
     "text": [
      "Razão carga-massa = (2.2+/-0.6)e+11 As/kg\n",
      "Razão carga-massa = (1.8+/-0.4)e+11 As/kg\n",
      "Razão carga-massa = (1.7+/-0.3)e+11 As/kg\n",
      "Razão carga-massa = (1.8+/-0.3)e+11 As/kg\n",
      "Razão carga-massa = (1.7+/-0.3)e+11 As/kg\n",
      "Razão carga-massa = (1.7+/-0.3)e+11 As/kg\n",
      "Razão carga-massa = (1.6+/-0.2)e+11 As/kg\n",
      "Razão carga-massa = (1.6+/-0.2)e+11 As/kg\n",
      "Razão carga-massa = (1.7+/-0.3)e+11 As/kg\n"
     ]
    }
   ],
   "source": [
    "cargamassa = 2*U1vetor/((r1*B1vetor)**2)\n",
    "for x in cargamassa:\n",
    "    print(\"Razão carga-massa = {0:.1e} As/kg\".format(x))"
   ]
  },
  {
   "cell_type": "markdown",
   "metadata": {
    "colab_type": "text",
    "id": "chFjRVD5Bxz_"
   },
   "source": [
    "### Determinando razão carga-massa da configuração $r_{2} = 0,03\\,m$"
   ]
  },
  {
   "cell_type": "markdown",
   "metadata": {
    "colab_type": "text",
    "id": "4ooabMZVBxz_"
   },
   "source": [
    "Tensão elétrica $U(V)$:"
   ]
  },
  {
   "cell_type": "code",
   "execution_count": 14,
   "metadata": {
    "colab": {
     "base_uri": "https://localhost:8080/",
     "height": 51
    },
    "colab_type": "code",
    "id": "JpKVjrROBx0A",
    "outputId": "50ea897c-4fab-44bf-ee35-610514a4576c"
   },
   "outputs": [
    {
     "name": "stdout",
     "output_type": "stream",
     "text": [
      "[100.0+/-0.8 120.0+/-0.9 140.0+/-1.0 160.0+/-1.0 180.0+/-1.0 200.0+/-1.0\n",
      " 220.0+/-1.0 240.0+/-2.0 260.0+/-2.0 280.0+/-2.0 300.0+/-2.0]\n"
     ]
    }
   ],
   "source": [
    "U2vetor = unumpy.uarray([100, 120, 140, 160, 180, 200, 220, 240, 260, 280, 300],[0.8, 0.9, 1, 1, 1, 1, 1, 2, 2, 2, 2])\n",
    "print(U2vetor)"
   ]
  },
  {
   "cell_type": "markdown",
   "metadata": {},
   "source": [
    "Corrente elétrica $I(A)$:"
   ]
  },
  {
   "cell_type": "code",
   "execution_count": 15,
   "metadata": {
    "colab": {
     "base_uri": "https://localhost:8080/",
     "height": 51
    },
    "colab_type": "code",
    "id": "G0Md1hw5Bx0C",
    "outputId": "42f338d0-4e82-4116-9f84-8a55acdb1d01"
   },
   "outputs": [
    {
     "name": "stdout",
     "output_type": "stream",
     "text": [
      "[1.6+/-0.25 1.62+/-0.25 1.84+/-0.26 2.02+/-0.26 2.17+/-0.27 2.33+/-0.27\n",
      " 2.43+/-0.27 2.5+/-0.27 2.65+/-0.28 2.79+/-0.28 2.87+/-0.29]\n"
     ]
    }
   ],
   "source": [
    "I2vetor = unumpy.uarray([1.60, 1.62, 1.84, 2.02, 2.17, 2.33, 2.43, 2.50, 2.65, 2.79, 2.87],[0.25, 0.25, 0.26, 0.26, 0.27, 0.27, 0.27, 0.27, 0.28, 0.28, 0.29])\n",
    "print(I2vetor)"
   ]
  },
  {
   "cell_type": "markdown",
   "metadata": {
    "colab_type": "text",
    "id": "L6Kyd9HOBx0E"
   },
   "source": [
    "Calculando o campo magnético, $B = \\left(\\frac{4}{3}\\right)^{\\frac{3}{2}} \\mu_{0} n \\frac{I}{R}$"
   ]
  },
  {
   "cell_type": "code",
   "execution_count": 16,
   "metadata": {
    "colab": {
     "base_uri": "https://localhost:8080/",
     "height": 204
    },
    "colab_type": "code",
    "id": "so5CYCRrBx0F",
    "outputId": "165bfe41-79a9-4fc9-8743-4cdfecd0ed08"
   },
   "outputs": [
    {
     "name": "stdout",
     "output_type": "stream",
     "text": [
      "Campo magnético = (1.11+/-0.17)e-03 T\n",
      "Campo magnético = (1.12+/-0.17)e-03 T\n",
      "Campo magnético = (1.28+/-0.18)e-03 T\n",
      "Campo magnético = (1.40+/-0.18)e-03 T\n",
      "Campo magnético = (1.51+/-0.19)e-03 T\n",
      "Campo magnético = (1.62+/-0.19)e-03 T\n",
      "Campo magnético = (1.69+/-0.19)e-03 T\n",
      "Campo magnético = (1.74+/-0.19)e-03 T\n",
      "Campo magnético = (1.84+/-0.19)e-03 T\n",
      "Campo magnético = (1.94+/-0.19)e-03 T\n",
      "Campo magnético = (1.99+/-0.20)e-03 T\n"
     ]
    }
   ],
   "source": [
    "B2vetor = ((4/5)**(3/2))*u0*n*(I2vetor/R)\n",
    "for x in B2vetor:\n",
    "    print(\"Campo magnético = {0:.e} T\".format(x))"
   ]
  },
  {
   "cell_type": "markdown",
   "metadata": {
    "colab_type": "text",
    "id": "WiFyKYW2Bx0H"
   },
   "source": [
    "Razão carga-massa $(e/m)$:"
   ]
  },
  {
   "cell_type": "code",
   "execution_count": 17,
   "metadata": {
    "colab": {
     "base_uri": "https://localhost:8080/",
     "height": 204
    },
    "colab_type": "code",
    "id": "Cj1M2W06Bx0H",
    "outputId": "df307f1a-ce28-4383-8db2-4d3ebe56681a"
   },
   "outputs": [
    {
     "name": "stdout",
     "output_type": "stream",
     "text": [
      "Razão carga/massa (e/m) = (1.8+/-0.6)e+11 As/kg\n",
      "Razão carga/massa (e/m) = (2.1+/-0.7)e+11 As/kg\n",
      "Razão carga/massa (e/m) = (1.9+/-0.5)e+11 As/kg\n",
      "Razão carga/massa (e/m) = (1.8+/-0.5)e+11 As/kg\n",
      "Razão carga/massa (e/m) = (1.8+/-0.4)e+11 As/kg\n",
      "Razão carga/massa (e/m) = (1.7+/-0.4)e+11 As/kg\n",
      "Razão carga/massa (e/m) = (1.7+/-0.4)e+11 As/kg\n",
      "Razão carga/massa (e/m) = (1.8+/-0.4)e+11 As/kg\n",
      "Razão carga/massa (e/m) = (1.7+/-0.4)e+11 As/kg\n",
      "Razão carga/massa (e/m) = (1.7+/-0.3)e+11 As/kg\n",
      "Razão carga/massa (e/m) = (1.7+/-0.3)e+11 As/kg\n"
     ]
    }
   ],
   "source": [
    "cargamassa = 2*U2vetor/((r2*B2vetor)**2)\n",
    "for x in cargamassa:\n",
    "    print(\"Razão carga/massa (e/m) = {0:.1e} As/kg\".format(x))"
   ]
  },
  {
   "cell_type": "markdown",
   "metadata": {
    "colab_type": "text",
    "id": "VhyQ19TNBx0J"
   },
   "source": [
    "### Determinando razão carga-massa da configuração $r_{3} = 0,04\\,m$"
   ]
  },
  {
   "cell_type": "markdown",
   "metadata": {
    "colab_type": "text",
    "id": "9ol6qfY6Bx0K"
   },
   "source": [
    "Tensão elétrica $U(V)$:"
   ]
  },
  {
   "cell_type": "code",
   "execution_count": 18,
   "metadata": {
    "colab": {
     "base_uri": "https://localhost:8080/",
     "height": 51
    },
    "colab_type": "code",
    "id": "lxlDu5qCBx0K",
    "outputId": "447b8bbf-486f-47eb-90b0-27a3eead32ad"
   },
   "outputs": [
    {
     "name": "stdout",
     "output_type": "stream",
     "text": [
      "[100.0+/-0.8 120.0+/-0.9 140.0+/-1.0 160.0+/-1.0 180.0+/-1.0 200.0+/-1.0\n",
      " 220.0+/-1.0 240.0+/-2.0 260.0+/-2.0 280.0+/-2.0 300.0+/-2.0]\n"
     ]
    }
   ],
   "source": [
    "U3vetor = unumpy.uarray([100, 120, 140, 160, 180, 200, 220, 240, 260, 280, 300],[0.8, 0.9, 1, 1, 1, 1, 1, 2, 2, 2, 2])\n",
    "print(U3vetor)"
   ]
  },
  {
   "cell_type": "markdown",
   "metadata": {
    "colab_type": "text",
    "id": "eLsiqiCTBx0M"
   },
   "source": [
    "Corrente elétrica $I(A)$:"
   ]
  },
  {
   "cell_type": "code",
   "execution_count": 19,
   "metadata": {
    "colab": {
     "base_uri": "https://localhost:8080/",
     "height": 51
    },
    "colab_type": "code",
    "id": "e5LP12IXBx0M",
    "outputId": "983b2424-cf8a-45b3-9286-c850b60d012e"
   },
   "outputs": [
    {
     "name": "stdout",
     "output_type": "stream",
     "text": [
      "[1.12+/-0.23 1.13+/-0.23 1.33+/-0.24 1.47+/-0.24 1.59+/-0.25 1.7+/-0.25\n",
      " 1.79+/-0.25 1.9+/-0.26 2.0+/-0.26 1.67+/-0.25 2.12+/-0.27]\n"
     ]
    }
   ],
   "source": [
    "I3vetor = unumpy.uarray([1.12, 1.13, 1.33, 1.47, 1.59, 1.70, 1.79, 1.90, 2.00, 1.67, 2.12],[0.23, 0.23, 0.24, 0.24, 0.25, 0.25, 0.25, 0.26, 0.26, 0.25, 0.27])\n",
    "print(I3vetor)"
   ]
  },
  {
   "cell_type": "markdown",
   "metadata": {
    "colab_type": "text",
    "id": "LPWsb-5WBx0O"
   },
   "source": [
    "Calculando o campo magnético, $B = \\left(\\frac{4}{3}\\right)^{\\frac{3}{2}} \\mu_{0} n \\frac{I}{R}$"
   ]
  },
  {
   "cell_type": "code",
   "execution_count": 20,
   "metadata": {
    "colab": {
     "base_uri": "https://localhost:8080/",
     "height": 204
    },
    "colab_type": "code",
    "id": "uVv8GDk-Bx0O",
    "outputId": "1c1e4d25-15f5-4b52-bc78-d7312c7d0939"
   },
   "outputs": [
    {
     "name": "stdout",
     "output_type": "stream",
     "text": [
      "Campo magnético = (7.8+/-1.6)e-04 T\n",
      "Campo magnético = (7.8+/-1.6)e-04 T\n",
      "Campo magnético = (9.2+/-1.7)e-04 T\n",
      "Campo magnético = (1.02+/-0.17)e-03 T\n",
      "Campo magnético = (1.10+/-0.17)e-03 T\n",
      "Campo magnético = (1.18+/-0.17)e-03 T\n",
      "Campo magnético = (1.24+/-0.17)e-03 T\n",
      "Campo magnético = (1.32+/-0.18)e-03 T\n",
      "Campo magnético = (1.39+/-0.18)e-03 T\n",
      "Campo magnético = (1.16+/-0.17)e-03 T\n",
      "Campo magnético = (1.47+/-0.19)e-03 T\n"
     ]
    }
   ],
   "source": [
    "B3vetor = ((4/5)**(3/2))*u0*n*(I3vetor/R)\n",
    "for x in B3vetor:\n",
    "    print(\"Campo magnético = {0:.e} T\".format(x))"
   ]
  },
  {
   "cell_type": "markdown",
   "metadata": {
    "colab_type": "text",
    "id": "WjuzP8taBx0R"
   },
   "source": [
    "Razão carga-massa $(e/m)$:"
   ]
  },
  {
   "cell_type": "code",
   "execution_count": 21,
   "metadata": {
    "colab": {
     "base_uri": "https://localhost:8080/",
     "height": 204
    },
    "colab_type": "code",
    "id": "AqjcUG6tBx0R",
    "outputId": "4266ae20-58e1-4871-e764-2837f48cceb9"
   },
   "outputs": [
    {
     "name": "stdout",
     "output_type": "stream",
     "text": [
      "Razão carga-massa = (2.1+/-0.8)e+11 As/kg\n",
      "Razão carga-massa = (2.4+/-1.0)e+11 As/kg\n",
      "Razão carga-massa = (2.1+/-0.7)e+11 As/kg\n",
      "Razão carga-massa = (1.9+/-0.6)e+11 As/kg\n",
      "Razão carga-massa = (1.8+/-0.6)e+11 As/kg\n",
      "Razão carga-massa = (1.8+/-0.5)e+11 As/kg\n",
      "Razão carga-massa = (1.8+/-0.5)e+11 As/kg\n",
      "Razão carga-massa = (1.7+/-0.5)e+11 As/kg\n",
      "Razão carga-massa = (1.7+/-0.4)e+11 As/kg\n",
      "Razão carga-massa = (2.6+/-0.8)e+11 As/kg\n",
      "Razão carga-massa = (1.7+/-0.4)e+11 As/kg\n"
     ]
    }
   ],
   "source": [
    "cargamassa = 2*U3vetor/((r3*B3vetor)**2)\n",
    "for x in cargamassa:\n",
    "    print(\"Razão carga-massa = {0:.e} As/kg\".format(x))"
   ]
  },
  {
   "cell_type": "markdown",
   "metadata": {
    "colab_type": "text",
    "id": "axvO3rkrBx0T"
   },
   "source": [
    "### Determinando razão carga-massa da configuração $r_{4} = 0,05\\,m$"
   ]
  },
  {
   "cell_type": "markdown",
   "metadata": {
    "colab_type": "text",
    "id": "nv2KugZZBx0T"
   },
   "source": [
    "Tensão elétrica $U(V)$:"
   ]
  },
  {
   "cell_type": "code",
   "execution_count": 22,
   "metadata": {
    "colab": {
     "base_uri": "https://localhost:8080/",
     "height": 51
    },
    "colab_type": "code",
    "id": "lZtPW2kqBx0V",
    "outputId": "633d23b9-4474-49e6-d284-fc16bf937a90"
   },
   "outputs": [
    {
     "name": "stdout",
     "output_type": "stream",
     "text": [
      "[100.0+/-0.8 120.0+/-0.9 140.0+/-1.0 160.0+/-1.0 180.0+/-1.0 200.0+/-1.0\n",
      " 220.0+/-1.0 240.0+/-2.0 260.0+/-2.0 280.0+/-2.0 300.0+/-2.0]\n"
     ]
    }
   ],
   "source": [
    "U4vetor = unumpy.uarray([100, 120, 140, 160, 180, 200, 220, 240, 260, 280, 300],[0.8, 0.9, 1, 1, 1, 1, 1, 2, 2, 2, 2])\n",
    "print(U4vetor)"
   ]
  },
  {
   "cell_type": "markdown",
   "metadata": {
    "colab_type": "text",
    "id": "nhF7QstABx0W"
   },
   "source": [
    "Corrente elétrica $I(A)$:"
   ]
  },
  {
   "cell_type": "code",
   "execution_count": 23,
   "metadata": {
    "colab": {
     "base_uri": "https://localhost:8080/",
     "height": 51
    },
    "colab_type": "code",
    "id": "wlDqMj1aBx0X",
    "outputId": "0edc7420-5347-446b-9543-81d911a244e5"
   },
   "outputs": [
    {
     "name": "stdout",
     "output_type": "stream",
     "text": [
      "[0.89+/-0.24 0.9+/-0.24 1.07+/-0.24 1.17+/-0.25 1.26+/-0.25 1.35+/-0.25\n",
      " 1.42+/-0.25 1.48+/-0.25 1.56+/-0.26 1.62+/-0.26 1.77+/-0.26]\n"
     ]
    }
   ],
   "source": [
    "I4vetor = unumpy.uarray([0.89, 0.90, 1.07, 1.17, 1.26, 1.35, 1.42, 1.48, 1.56, 1.62, 1.77],[0.24, 0.24, 0.24, 0.25, 0.25, 0.25, 0.25, 0.25, 0.26, 0.26, 0.26])\n",
    "print(I4vetor)"
   ]
  },
  {
   "cell_type": "markdown",
   "metadata": {
    "colab_type": "text",
    "id": "8Ko1Db0kBx0Z"
   },
   "source": [
    "Calculando o campo magnético, $B = \\left(\\frac{4}{3}\\right)^{\\frac{3}{2}} \\mu_{0} n \\frac{I}{R}$"
   ]
  },
  {
   "cell_type": "code",
   "execution_count": 24,
   "metadata": {
    "colab": {
     "base_uri": "https://localhost:8080/",
     "height": 204
    },
    "colab_type": "code",
    "id": "xr-4hDVMBx0Z",
    "outputId": "bf636383-3b33-492d-d582-2d2bb6652c11"
   },
   "outputs": [
    {
     "name": "stdout",
     "output_type": "stream",
     "text": [
      "Campo magnético = (6.2+/-1.7)e-04 T\n",
      "Campo magnético = (6.2+/-1.7)e-04 T\n",
      "Campo magnético = (7.4+/-1.7)e-04 T\n",
      "Campo magnético = (8.1+/-1.7)e-04 T\n",
      "Campo magnético = (8.7+/-1.7)e-04 T\n",
      "Campo magnético = (9.4+/-1.7)e-04 T\n",
      "Campo magnético = (9.9+/-1.7)e-04 T\n",
      "Campo magnético = (1.03+/-0.17)e-03 T\n",
      "Campo magnético = (1.08+/-0.18)e-03 T\n",
      "Campo magnético = (1.12+/-0.18)e-03 T\n",
      "Campo magnético = (1.23+/-0.18)e-03 T\n"
     ]
    }
   ],
   "source": [
    "B4vetor = ((4/5)**(3/2))*u0*n*(I4vetor/R)\n",
    "for x in B4vetor:\n",
    "    print(\"Campo magnético = {0:.e} T\".format(x))"
   ]
  },
  {
   "cell_type": "markdown",
   "metadata": {
    "colab_type": "text",
    "id": "1-TVVBK4Bx0b"
   },
   "source": [
    "Razão carga-massa $(e/m)$:"
   ]
  },
  {
   "cell_type": "code",
   "execution_count": 25,
   "metadata": {
    "colab": {
     "base_uri": "https://localhost:8080/",
     "height": 204
    },
    "colab_type": "code",
    "id": "9q2QU6L9Bx0b",
    "outputId": "ff3aa77b-66cc-4047-895b-c92fb5f6378a"
   },
   "outputs": [
    {
     "name": "stdout",
     "output_type": "stream",
     "text": [
      "Razão carga-massa = (2.1+/-1.1)e+11 As/kg\n",
      "Razão carga-massa = (2.5+/-1.3)e+11 As/kg\n",
      "Razão carga-massa = (2.0+/-0.9)e+11 As/kg\n",
      "Razão carga-massa = (1.9+/-0.8)e+11 As/kg\n",
      "Razão carga-massa = (1.9+/-0.7)e+11 As/kg\n",
      "Razão carga-massa = (1.8+/-0.7)e+11 As/kg\n",
      "Razão carga-massa = (1.8+/-0.6)e+11 As/kg\n",
      "Razão carga-massa = (1.8+/-0.6)e+11 As/kg\n",
      "Razão carga-massa = (1.8+/-0.6)e+11 As/kg\n",
      "Razão carga-massa = (1.8+/-0.6)e+11 As/kg\n",
      "Razão carga-massa = (1.6+/-0.5)e+11 As/kg\n"
     ]
    }
   ],
   "source": [
    "cargamassa = 2*U4vetor/((r4*B4vetor)**2)\n",
    "for x in cargamassa:\n",
    "    print(\"Razão carga-massa = {0:.e} As/kg\".format(x))"
   ]
  }
 ],
 "metadata": {
  "colab": {
   "name": "Razão carga-massa Uncertainties.ipynb",
   "provenance": []
  },
  "kernelspec": {
   "display_name": "Python 3",
   "language": "python",
   "name": "python3"
  },
  "language_info": {
   "codemirror_mode": {
    "name": "ipython",
    "version": 3
   },
   "file_extension": ".py",
   "mimetype": "text/x-python",
   "name": "python",
   "nbconvert_exporter": "python",
   "pygments_lexer": "ipython3",
   "version": "3.7.7"
  }
 },
 "nbformat": 4,
 "nbformat_minor": 1
}
