{
 "cells": [
  {
   "cell_type": "markdown",
   "metadata": {
    "colab_type": "text",
    "id": "Z0EjMFk-pxc0"
   },
   "source": [
    "# Laboratório de Física Moderna\n",
    "## Análise de dados do Experimento da Gota de Millikan\n",
    "###  Autor: Thiago Ferreira Santos"
   ]
  },
  {
   "cell_type": "markdown",
   "metadata": {
    "colab_type": "text",
    "id": "QllaDJNipxc2"
   },
   "source": [
    "### Inicialização do Python (módulos math e uncertainties)"
   ]
  },
  {
   "cell_type": "markdown",
   "metadata": {
    "colab_type": "text",
    "id": "ZD_9TQ0epxc3"
   },
   "source": [
    "Carregando definições e funções matemáticas:"
   ]
  },
  {
   "cell_type": "code",
   "execution_count": 1,
   "metadata": {
    "colab": {},
    "colab_type": "code",
    "id": "9pUGGynPpxc3"
   },
   "outputs": [],
   "source": [
    "import math"
   ]
  },
  {
   "cell_type": "markdown",
   "metadata": {
    "colab_type": "text",
    "id": "CBnyr1lTpxc8"
   },
   "source": [
    "Carregando o [módulo Python Uncertainties](https://pythonhosted.org/uncertainties/ \"site 'Welcome to the uncertainties package'\"), que calcula a propagação de incertezas:"
   ]
  },
  {
   "cell_type": "code",
   "execution_count": 2,
   "metadata": {
    "colab": {},
    "colab_type": "code",
    "id": "96fStEg6pxc8"
   },
   "outputs": [],
   "source": [
    "from uncertainties import *"
   ]
  },
  {
   "cell_type": "markdown",
   "metadata": {
    "colab_type": "text",
    "id": "pxi3BrlUpxdF"
   },
   "source": [
    "### Definição de parâmetros"
   ]
  },
  {
   "cell_type": "markdown",
   "metadata": {
    "colab_type": "text",
    "id": "VUL7OrYYpxdG"
   },
   "source": [
    "Usa-se a função \"ufloat\" para definir números reais com incertezas:"
   ]
  },
  {
   "cell_type": "markdown",
   "metadata": {
    "colab_type": "text",
    "id": "oB-wu_BYpxdG"
   },
   "source": [
    "Distância $d = (2,50 \\pm 0,01)\\,mm$ entre as placas do capacitor:"
   ]
  },
  {
   "cell_type": "code",
   "execution_count": 3,
   "metadata": {
    "colab": {
     "base_uri": "https://localhost:8080/",
     "height": 34
    },
    "colab_type": "code",
    "id": "rYiZv4J4pxdH",
    "outputId": "463c0d4d-a3da-4a15-dbf5-050a16d133d4"
   },
   "outputs": [
    {
     "data": {
      "text/plain": [
       "0.0025+/-1e-05"
      ]
     },
     "execution_count": 3,
     "metadata": {},
     "output_type": "execute_result"
    }
   ],
   "source": [
    "d = ufloat(2.50e-3,0.01e-3); d"
   ]
  },
  {
   "cell_type": "markdown",
   "metadata": {
    "colab_type": "text",
    "id": "Q6IJyTLbpxdL"
   },
   "source": [
    "Aceleração da gravidade local $g = 9,79 \\,m/s^2$:"
   ]
  },
  {
   "cell_type": "code",
   "execution_count": 4,
   "metadata": {
    "colab": {
     "base_uri": "https://localhost:8080/",
     "height": 34
    },
    "colab_type": "code",
    "id": "e6xRRtwfpxdL",
    "outputId": "0c8c8275-d475-4000-96b0-78af66f07b13"
   },
   "outputs": [],
   "source": [
    "g = 9.79"
   ]
  },
  {
   "cell_type": "markdown",
   "metadata": {
    "colab_type": "text",
    "id": "XnBAWlXzpxdP"
   },
   "source": [
    "Densidade do óleo de silicone, $\\rho_1 = 1,03 \\times 10^3 \\, kg/m^3$:"
   ]
  },
  {
   "cell_type": "code",
   "execution_count": 5,
   "metadata": {
    "colab": {
     "base_uri": "https://localhost:8080/",
     "height": 34
    },
    "colab_type": "code",
    "id": "Upj0SxzZpxdP",
    "outputId": "ad43ca51-3e5b-4a4d-86c8-8d3d3b3045ac"
   },
   "outputs": [],
   "source": [
    "rho1 = 1.03e3"
   ]
  },
  {
   "cell_type": "markdown",
   "metadata": {
    "colab_type": "text",
    "id": "wrs8WB8FpxdT"
   },
   "source": [
    "Densidade do ar à temperatura ambiente, $\\rho_2 = 1,293\\,kg/m^3$:"
   ]
  },
  {
   "cell_type": "code",
   "execution_count": 6,
   "metadata": {
    "colab": {
     "base_uri": "https://localhost:8080/",
     "height": 34
    },
    "colab_type": "code",
    "id": "-ZEcmA0jpxdU",
    "outputId": "3739f0f1-dd3e-49bf-adb7-862ffa4a6d18"
   },
   "outputs": [],
   "source": [
    "rho2 = 1.293"
   ]
  },
  {
   "cell_type": "markdown",
   "metadata": {
    "colab_type": "text",
    "id": "8gpmMIzkpxdX"
   },
   "source": [
    "Coeficiente de viscosidade do ar, $\\eta = 1,82 \\times 10^{-5} kg/ms$:"
   ]
  },
  {
   "cell_type": "code",
   "execution_count": 7,
   "metadata": {
    "colab": {
     "base_uri": "https://localhost:8080/",
     "height": 34
    },
    "colab_type": "code",
    "id": "HHY8W8YVpxdX",
    "outputId": "1ebf2d5f-9aaf-483c-9083-acf073d5ac35"
   },
   "outputs": [],
   "source": [
    "eta = 1.82e-5"
   ]
  },
  {
   "cell_type": "markdown",
   "metadata": {
    "colab_type": "text",
    "id": "7HB6ZET8pxda"
   },
   "source": [
    "### Propagação de incertezas para uma lista de valores"
   ]
  },
  {
   "cell_type": "markdown",
   "metadata": {
    "colab_type": "text",
    "id": "3c8bPRcqpxdb"
   },
   "source": [
    "Carregando o [sub-módulo unumpy do módulo Uncertainties](https://pythonhosted.org/uncertainties/numpy_guide.html \"Uncertainties in arrays\") para lidar com vetor/lista de valores com incertezas:"
   ]
  },
  {
   "cell_type": "code",
   "execution_count": 8,
   "metadata": {
    "colab": {},
    "colab_type": "code",
    "id": "iPEiqvXfpxdc"
   },
   "outputs": [],
   "source": [
    "from uncertainties import unumpy"
   ]
  },
  {
   "cell_type": "markdown",
   "metadata": {
    "colab_type": "text",
    "id": "S8dScHYRpxde"
   },
   "source": [
    "Usa-se a função unumpy.uarray() para criar lista de valores com incertezas."
   ]
  },
  {
   "cell_type": "markdown",
   "metadata": {
    "colab_type": "text",
    "id": "JZjMcsJNpxdf"
   },
   "source": [
    "Distância de subida $s_1\\,(m)$:"
   ]
  },
  {
   "cell_type": "code",
   "execution_count": 9,
   "metadata": {
    "colab": {
     "base_uri": "https://localhost:8080/",
     "height": 102
    },
    "colab_type": "code",
    "id": "KRQ-fzp3pxdg",
    "outputId": "a2c401c3-d5fb-4305-b994-f71c79478314",
    "scrolled": false
   },
   "outputs": [
    {
     "name": "stdout",
     "output_type": "stream",
     "text": [
      "[0.00089+/-1e-05 0.00089+/-1e-05 0.00089+/-1e-05 0.00089+/-1e-05\n",
      " 0.00089+/-1e-05 0.00178+/-2e-05 0.00178+/-2e-05 0.00178+/-2e-05\n",
      " 0.00178+/-2e-05 0.00178+/-2e-05 0.00267+/-3e-05 0.00267+/-3e-05\n",
      " 0.00267+/-3e-05 0.00267+/-3e-05 0.00267+/-3e-05 0.00356+/-4e-05\n",
      " 0.00356+/-4e-05 0.00356+/-4e-05 0.00356+/-4e-05 0.00356+/-4e-05]\n"
     ]
    }
   ],
   "source": [
    "s1 = unumpy.uarray([0.89e-3, 0.89e-3, 0.89e-3, 0.89e-3, 0.89e-3, 1.78e-3, 1.78e-3, 1.78e-3, 1.78e-3, 1.78e-3, \n",
    "2.67e-3, 2.67e-3, 2.67e-3, 2.67e-3, 2.67e-3, 3.56e-3, 3.56e-3, 3.56e-3, 3.56e-3, 3.56e-3], [0.01e-3, 0.01e-3, 0.01e-3, \n",
    "0.01e-3, 0.01e-3, 0.02e-3, 0.02e-3, 0.02e-3, 0.02e-3, 0.02e-3, 0.03e-3, 0.03e-3, 0.03e-3, 0.03e-3, 0.03e-3, 0.04e-3, \n",
    "0.04e-3, 0.04e-3, 0.04e-3, 0.04e-3])\n",
    "print(s1)"
   ]
  },
  {
   "cell_type": "markdown",
   "metadata": {
    "colab_type": "text",
    "id": "oQ_wcctkpxdj"
   },
   "source": [
    "Tempo de subida $t_1\\,(s)$ :"
   ]
  },
  {
   "cell_type": "code",
   "execution_count": 10,
   "metadata": {
    "colab": {
     "base_uri": "https://localhost:8080/",
     "height": 102
    },
    "colab_type": "code",
    "id": "hpL05yn9pxdj",
    "outputId": "ba717990-e143-4d65-bf6d-108dbb395bc6"
   },
   "outputs": [
    {
     "name": "stdout",
     "output_type": "stream",
     "text": [
      "[7.8+/-0.05 6.27+/-0.05 6.19+/-0.05 5.2+/-0.05 4.23+/-0.05 4.97+/-0.05\n",
      " 4.4+/-0.05 4.8+/-0.05 5.15+/-0.05 4.82+/-0.05 12.87+/-0.05 12.13+/-0.05\n",
      " 8.8+/-0.05 13.5+/-0.05 16.3+/-0.05 6.433+/-0.05 7.95+/-0.05 13.03+/-0.05\n",
      " 17.47+/-0.05 18.97+/-0.05]\n"
     ]
    }
   ],
   "source": [
    "t1 = unumpy.uarray([7.80, 6.27, 6.19, 5.20, 4.23, 4.97, 4.40, 4.80, 5.15, 4.82, 12.87, 12.13, 8.80, 13.50, 16.30,\n",
    "6.433, 7.95, 13.03, 17.47, 18.97],[0.05, 0.05, 0.05, 0.05, 0.05, 0.05, 0.05, 0.05, 0.05, 0.05, 0.05, 0.05, 0.05, 0.05,\n",
    "0.05, 0.05, 0.05, 0.05, 0.05, 0.05])\n",
    "print(t1)"
   ]
  },
  {
   "cell_type": "markdown",
   "metadata": {
    "colab_type": "text",
    "id": "fh1MaYZEpxdm"
   },
   "source": [
    "Velocidade de subida, $v_1 = s_1/t_1$:"
   ]
  },
  {
   "cell_type": "code",
   "execution_count": 11,
   "metadata": {
    "colab": {
     "base_uri": "https://localhost:8080/",
     "height": 357
    },
    "colab_type": "code",
    "id": "JtO57xDCpxdn",
    "outputId": "ec786c47-9374-4067-9c53-68b3879d94bc"
   },
   "outputs": [
    {
     "name": "stdout",
     "output_type": "stream",
     "text": [
      "(1.14+/-0.01)e-04\n",
      "(1.42+/-0.02)e-04\n",
      "(1.44+/-0.02)e-04\n",
      "(1.71+/-0.03)e-04\n",
      "(2.10+/-0.03)e-04\n",
      "(3.58+/-0.05)e-04\n",
      "(4.05+/-0.06)e-04\n",
      "(3.71+/-0.06)e-04\n",
      "(3.46+/-0.05)e-04\n",
      "(3.69+/-0.06)e-04\n",
      "(2.07+/-0.02)e-04\n",
      "(2.20+/-0.03)e-04\n",
      "(3.03+/-0.04)e-04\n",
      "(1.98+/-0.02)e-04\n",
      "(1.64+/-0.02)e-04\n",
      "(5.53+/-0.08)e-04\n",
      "(4.48+/-0.06)e-04\n",
      "(2.73+/-0.03)e-04\n",
      "(2.04+/-0.02)e-04\n",
      "(1.88+/-0.02)e-04\n"
     ]
    }
   ],
   "source": [
    "v1 = s1/t1\n",
    "for x in v1:\n",
    "    print(\"{0:.2e}\".format(x))"
   ]
  },
  {
   "cell_type": "markdown",
   "metadata": {
    "colab_type": "text",
    "id": "i5JgDQwjpxdq"
   },
   "source": [
    "Distância de descida $s_2\\,(m)$:"
   ]
  },
  {
   "cell_type": "code",
   "execution_count": 12,
   "metadata": {
    "colab": {
     "base_uri": "https://localhost:8080/",
     "height": 102
    },
    "colab_type": "code",
    "id": "mYvaR1mHpxdr",
    "outputId": "def44a7e-df3c-49cd-b5a6-dd438ca3f52a"
   },
   "outputs": [
    {
     "name": "stdout",
     "output_type": "stream",
     "text": [
      "[0.00089+/-1e-05 0.00089+/-1e-05 0.00089+/-1e-05 0.00089+/-1e-05\n",
      " 0.00089+/-1e-05 0.00178+/-2e-05 0.00178+/-2e-05 0.00178+/-2e-05\n",
      " 0.00178+/-2e-05 0.00178+/-2e-05 0.00267+/-3e-05 0.00267+/-3e-05\n",
      " 0.00267+/-3e-05 0.00267+/-3e-05 0.00267+/-3e-05 0.00356+/-4e-05\n",
      " 0.00356+/-4e-05 0.00356+/-4e-05 0.00356+/-4e-05 0.00356+/-4e-05]\n"
     ]
    }
   ],
   "source": [
    "s2 = unumpy.uarray([0.89e-3, 0.89e-3, 0.89e-3, 0.89e-3, 0.89e-3, 1.78e-3, 1.78e-3, 1.78e-3, 1.78e-3, 1.78e-3, \n",
    "2.67e-3, 2.67e-3, 2.67e-3, 2.67e-3, 2.67e-3, 3.56e-3, 3.56e-3, 3.56e-3, 3.56e-3, 3.56e-3],[0.01e-3, 0.01e-3, 0.01e-3, \n",
    "0.01e-3, 0.01e-3, 0.02e-3, 0.02e-3, 0.02e-3, 0.02e-3, 0.02e-3, 0.03e-3, 0.03e-3, 0.03e-3, 0.03e-3, 0.03e-3, 0.04e-3, \n",
    "0.04e-3, 0.04e-3, 0.04e-3, 0.04e-3])\n",
    "print(s2)"
   ]
  },
  {
   "cell_type": "markdown",
   "metadata": {
    "colab_type": "text",
    "id": "0MnnDTdgpxdu"
   },
   "source": [
    "Tempo de descida $t_2\\,(s)$:"
   ]
  },
  {
   "cell_type": "code",
   "execution_count": 13,
   "metadata": {
    "colab": {
     "base_uri": "https://localhost:8080/",
     "height": 102
    },
    "colab_type": "code",
    "id": "ZprlLOv3pxdu",
    "outputId": "09c2a34a-25b9-4ab7-a22c-ed9ca608acab"
   },
   "outputs": [
    {
     "name": "stdout",
     "output_type": "stream",
     "text": [
      "[3.7+/-0.05 3.33+/-0.05 3.24+/-0.05 3.03+/-0.05 3.23+/-0.05 3.97+/-0.05\n",
      " 3.63+/-0.05 3.47+/-0.05 4.6+/-0.05 4.41+/-0.05 7.83+/-0.05 7.93+/-0.05\n",
      " 6.13+/-0.05 8.23+/-0.05 9.43+/-0.05 5.47+/-0.05 6.17+/-0.05 7.7+/-0.05\n",
      " 10.12+/-0.05 10.83+/-0.05]\n"
     ]
    }
   ],
   "source": [
    "t2 = unumpy.uarray([3.70, 3.33, 3.24, 3.03, 3.23, 3.97, 3.63, 3.47, 4.60, 4.41, 7.83, 7.93, 6.13, 8.23, 9.43, 5.47,\n",
    "6.17, 7.70, 10.12, 10.83],[0.05, 0.05, 0.05, 0.05, 0.05, 0.05, 0.05, 0.05, 0.05, 0.05, 0.05, 0.05, 0.05, 0.05, 0.05, \n",
    "0.05, 0.05, 0.05, 0.05, 0.05])\n",
    "print(t2)"
   ]
  },
  {
   "cell_type": "markdown",
   "metadata": {
    "colab_type": "text",
    "id": "yl5cf10cpxdy"
   },
   "source": [
    "Velocidade de descida, $v_2 = s_2/t_2$:"
   ]
  },
  {
   "cell_type": "code",
   "execution_count": 14,
   "metadata": {
    "colab": {
     "base_uri": "https://localhost:8080/",
     "height": 357
    },
    "colab_type": "code",
    "id": "W0vmWYB_pxdy",
    "outputId": "24565276-dc26-4530-d716-ad818a4cdc78"
   },
   "outputs": [
    {
     "name": "stdout",
     "output_type": "stream",
     "text": [
      "(2.41+/-0.04)e-04\n",
      "(2.67+/-0.05)e-04\n",
      "(2.75+/-0.05)e-04\n",
      "(2.94+/-0.06)e-04\n",
      "(2.76+/-0.05)e-04\n",
      "(4.48+/-0.08)e-04\n",
      "(4.90+/-0.09)e-04\n",
      "(5.13+/-0.09)e-04\n",
      "(3.87+/-0.06)e-04\n",
      "(4.04+/-0.06)e-04\n",
      "(3.41+/-0.04)e-04\n",
      "(3.37+/-0.04)e-04\n",
      "(4.36+/-0.06)e-04\n",
      "(3.24+/-0.04)e-04\n",
      "(2.83+/-0.04)e-04\n",
      "(6.51+/-0.09)e-04\n",
      "(5.77+/-0.08)e-04\n",
      "(4.62+/-0.06)e-04\n",
      "(3.52+/-0.04)e-04\n",
      "(3.29+/-0.04)e-04\n"
     ]
    }
   ],
   "source": [
    "v2 = s2/t2\n",
    "for x in v2:\n",
    "    print (\"{0:.2e}\".format(x))"
   ]
  },
  {
   "cell_type": "markdown",
   "metadata": {
    "colab_type": "text",
    "id": "hDdiyZsfpxd1"
   },
   "source": [
    "Diferença de potencial $U\\,(V)$:"
   ]
  },
  {
   "cell_type": "code",
   "execution_count": 15,
   "metadata": {
    "colab": {
     "base_uri": "https://localhost:8080/",
     "height": 85
    },
    "colab_type": "code",
    "id": "ic40S1m6pxd2",
    "outputId": "6d812f89-3e2d-4efc-84e5-8efec44193e1"
   },
   "outputs": [
    {
     "name": "stdout",
     "output_type": "stream",
     "text": [
      "[300.0+/-5.0 300.0+/-5.0 300.0+/-5.0 300.0+/-5.0 300.0+/-5.0 400.0+/-5.0\n",
      " 400.0+/-5.0 400.0+/-5.0 400.0+/-5.0 400.0+/-5.0 500.0+/-5.0 500.0+/-5.0\n",
      " 500.0+/-5.0 500.0+/-5.0 500.0+/-5.0 600.0+/-5.0 600.0+/-5.0 600.0+/-5.0\n",
      " 600.0+/-5.0 600.0+/-5.0]\n"
     ]
    }
   ],
   "source": [
    "U = unumpy.uarray([300., 300., 300., 300., 300., 400., 400., 400., 400., 400., 500., 500., 500., 500., 500., 600., \n",
    "600., 600., 600., 600.],[5., 5., 5., 5., 5., 5., 5., 5., 5., 5., 5., 5., 5., 5., 5., 5., 5., 5., 5., 5.])\n",
    "print(U)"
   ]
  },
  {
   "cell_type": "markdown",
   "metadata": {
    "colab_type": "text",
    "id": "JzOOokNApxd4"
   },
   "source": [
    "Raio da gotícula, $r = \\frac{3}{2} \\sqrt{\\frac{\\eta}{g (\\rho_1-\\rho_2)}}\\sqrt{|v_1-v_2|}$ :"
   ]
  },
  {
   "cell_type": "code",
   "execution_count": 16,
   "metadata": {
    "colab": {
     "base_uri": "https://localhost:8080/",
     "height": 357
    },
    "colab_type": "code",
    "id": "ELo7LhuXpxd5",
    "outputId": "289b8a9e-842f-4a43-bd12-f2e86d85793e"
   },
   "outputs": [
    {
     "name": "stdout",
     "output_type": "stream",
     "text": [
      "(7.17+/-0.13)e-07\n",
      "(7.14+/-0.15)e-07\n",
      "(7.30+/-0.16)e-07\n",
      "(7.06+/-0.18)e-07\n",
      "(5.15+/-0.25)e-07\n",
      "(6.06+/-0.31)e-07\n",
      "(5.91+/-0.37)e-07\n",
      "(7.60+/-0.29)e-07\n",
      "(4.10+/-0.39)e-07\n",
      "(3.74+/-0.47)e-07\n",
      "(7.37+/-0.14)e-07\n",
      "(6.88+/-0.15)e-07\n",
      "(7.33+/-0.20)e-07\n",
      "(7.18+/-0.13)e-07\n",
      "(6.97+/-0.12)e-07\n",
      "(6.29+/-0.39)e-07\n",
      "(7.25+/-0.28)e-07\n",
      "(8.77+/-0.16)e-07\n",
      "(7.76+/-0.13)e-07\n",
      "(7.57+/-0.12)e-07\n"
     ]
    }
   ],
   "source": [
    "r = (3/2)*unumpy.sqrt(eta/(g*(rho1-rho2)))*unumpy.sqrt(abs(v1-v2))\n",
    "for x in r:\n",
    "    print(\"{0:.2e}\".format(x))"
   ]
  },
  {
   "cell_type": "markdown",
   "metadata": {
    "colab_type": "text",
    "id": "kuVestS4pxd7"
   },
   "source": [
    "Carga elétrica da gotícula, $Q = \\frac{9}{2}\\pi\\,d \\sqrt{\\frac{\\eta^3}{g (\\rho_1-\\rho_2)}} \\left(\\frac{v1+v2}{U}\\sqrt{|v_1-v_2|} \\right)$:"
   ]
  },
  {
   "cell_type": "code",
   "execution_count": 17,
   "metadata": {
    "colab": {
     "base_uri": "https://localhost:8080/",
     "height": 357
    },
    "colab_type": "code",
    "id": "UQL-wcO3pxd8",
    "outputId": "0d7a0f78-321e-4d96-a58b-e3d10cb6d813"
   },
   "outputs": [
    {
     "name": "stdout",
     "output_type": "stream",
     "text": [
      "(3.63+/-0.12)e-19\n",
      "(4.18+/-0.15)e-19\n",
      "(4.36+/-0.16)e-19\n",
      "(4.69+/-0.19)e-19\n",
      "(3.57+/-0.21)e-19\n",
      "(5.24+/-0.30)e-19\n",
      "(5.67+/-0.39)e-19\n",
      "(7.20+/-0.34)e-19\n",
      "(3.22+/-0.32)e-19\n",
      "(3.10+/-0.39)e-19\n",
      "(3.47+/-0.09)e-19\n",
      "(3.29+/-0.10)e-19\n",
      "(4.65+/-0.16)e-19\n",
      "(3.21+/-0.09)e-19\n",
      "(2.67+/-0.07)e-19\n",
      "(5.42+/-0.36)e-19\n",
      "(5.31+/-0.23)e-19\n",
      "(4.61+/-0.12)e-19\n",
      "(3.08+/-0.08)e-19\n",
      "(2.79+/-0.07)e-19\n"
     ]
    }
   ],
   "source": [
    "Q = (9/2)*math.pi*d*unumpy.sqrt(eta**3/(g*(rho1-rho2)))*((v1+v2)/U)*unumpy.sqrt(abs(v1-v2))\n",
    "for x in Q:\n",
    "    print(\"{0:.2e}\".format(x))"
   ]
  },
  {
   "cell_type": "markdown",
   "metadata": {},
   "source": [
    "Determinando o valor de $n$:"
   ]
  },
  {
   "cell_type": "code",
   "execution_count": 18,
   "metadata": {
    "colab": {
     "base_uri": "https://localhost:8080/",
     "height": 357
    },
    "colab_type": "code",
    "id": "iGk28I1opxd_",
    "outputId": "e00f9e96-d80d-4bf9-8f59-dc4a08db86a4"
   },
   "outputs": [
    {
     "name": "stdout",
     "output_type": "stream",
     "text": [
      "2.27+/-0.08\n",
      "2.61+/-0.10\n",
      "2.73+/-0.10\n",
      "2.93+/-0.12\n",
      "2.23+/-0.13\n",
      "3.27+/-0.19\n",
      "3.54+/-0.24\n",
      "4.50+/-0.21\n",
      "2.01+/-0.20\n",
      "1.94+/-0.25\n",
      "2.17+/-0.06\n",
      "2.05+/-0.06\n",
      "2.90+/-0.10\n",
      "2.01+/-0.05\n",
      "1.67+/-0.04\n",
      "3.39+/-0.22\n",
      "3.32+/-0.14\n",
      "2.88+/-0.08\n",
      "1.93+/-0.05\n",
      "1.75+/-0.04\n"
     ]
    }
   ],
   "source": [
    "n = Q/1.6e-19\n",
    "for x in n:\n",
    "    print(\"{0:.3}\".format(x))"
   ]
  },
  {
   "cell_type": "markdown",
   "metadata": {},
   "source": [
    "Usando a relação $n = Q/e$ e assumindo $e = 1,6 \\times 10^{-19}\\,C$, é possível determinar o valor de $n$. Ao determinar o valor de $n$, o mesmo será arredondado para um número inteiro mais próximo:"
   ]
  },
  {
   "cell_type": "code",
   "execution_count": 19,
   "metadata": {
    "colab": {
     "base_uri": "https://localhost:8080/",
     "height": 357
    },
    "colab_type": "code",
    "id": "eBo5y1r0pxeD",
    "outputId": "dd554053-8992-4004-ed32-199fe625f579"
   },
   "outputs": [
    {
     "name": "stdout",
     "output_type": "stream",
     "text": [
      "2\n",
      "3\n",
      "3\n",
      "3\n",
      "2\n",
      "3\n",
      "4\n",
      "5\n",
      "2\n",
      "2\n",
      "2\n",
      "2\n",
      "3\n",
      "2\n",
      "2\n",
      "3\n",
      "3\n",
      "3\n",
      "2\n",
      "2\n"
     ]
    }
   ],
   "source": [
    "n = Q/1.6e-19\n",
    "for i in range(len(n)):\n",
    "    n[i] = round(n[i].n)\n",
    "    print(\"{}\".format(n[i]))"
   ]
  },
  {
   "cell_type": "markdown",
   "metadata": {},
   "source": [
    "Carga elementar do elétron, $e = Q/n$:"
   ]
  },
  {
   "cell_type": "code",
   "execution_count": 20,
   "metadata": {
    "colab": {
     "base_uri": "https://localhost:8080/",
     "height": 357
    },
    "colab_type": "code",
    "id": "vkqKQIUApxeG",
    "outputId": "e907fb82-58d5-4f4d-ddb1-b89dbad0a29e",
    "scrolled": true
   },
   "outputs": [
    {
     "name": "stdout",
     "output_type": "stream",
     "text": [
      "(1.82+/-0.06)e-19\n",
      "(1.39+/-0.05)e-19\n",
      "(1.45+/-0.05)e-19\n",
      "(1.56+/-0.06)e-19\n",
      "(1.79+/-0.10)e-19\n",
      "(1.75+/-0.10)e-19\n",
      "(1.42+/-0.10)e-19\n",
      "(1.44+/-0.07)e-19\n",
      "(1.61+/-0.16)e-19\n",
      "(1.55+/-0.20)e-19\n",
      "(1.73+/-0.05)e-19\n",
      "(1.64+/-0.05)e-19\n",
      "(1.55+/-0.05)e-19\n",
      "(1.61+/-0.04)e-19\n",
      "(1.34+/-0.03)e-19\n",
      "(1.81+/-0.12)e-19\n",
      "(1.77+/-0.08)e-19\n",
      "(1.54+/-0.04)e-19\n",
      "(1.54+/-0.04)e-19\n",
      "(1.40+/-0.03)e-19\n"
     ]
    }
   ],
   "source": [
    "e = Q/n\n",
    "for x in e:\n",
    "    print(\"{0:.2e}\".format(x))"
   ]
  },
  {
   "cell_type": "markdown",
   "metadata": {},
   "source": [
    "Média da carga elementar do elétron:"
   ]
  },
  {
   "cell_type": "code",
   "execution_count": 21,
   "metadata": {},
   "outputs": [
    {
     "name": "stdout",
     "output_type": "stream",
     "text": [
      "(1.585+/-0.020)e-19\n"
     ]
    }
   ],
   "source": [
    "listing = [x for x in e]\n",
    "print(\"{}\".format(sum(listing)/len(listing)))"
   ]
  }
 ],
 "metadata": {
  "colab": {
   "collapsed_sections": [],
   "name": "Python_Uncertainties_Millikan_atualizando.ipynb",
   "provenance": []
  },
  "kernelspec": {
   "display_name": "Python 3",
   "language": "python",
   "name": "python3"
  },
  "language_info": {
   "codemirror_mode": {
    "name": "ipython",
    "version": 3
   },
   "file_extension": ".py",
   "mimetype": "text/x-python",
   "name": "python",
   "nbconvert_exporter": "python",
   "pygments_lexer": "ipython3",
   "version": "3.7.7"
  }
 },
 "nbformat": 4,
 "nbformat_minor": 1
}
