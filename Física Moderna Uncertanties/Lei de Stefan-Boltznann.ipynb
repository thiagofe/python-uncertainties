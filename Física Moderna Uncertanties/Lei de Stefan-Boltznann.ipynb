{
 "cells": [
  {
   "cell_type": "markdown",
   "metadata": {},
   "source": [
    "# Laboratório de Física Moderna\n",
    "## Cálculos experimentais do experimento da Lei de Stefan-Boltznann\n",
    "###  Autor: Thiago Ferreira Santos\n",
    "### Colaboradores: Julio Francisco da Silva, Diego Santos de Jesus"
   ]
  },
  {
   "cell_type": "markdown",
   "metadata": {},
   "source": [
    "### Inicialização do Python (módulos math e uncertainties)"
   ]
  },
  {
   "cell_type": "markdown",
   "metadata": {},
   "source": [
    "Carregando definições e funções matemáticas:"
   ]
  },
  {
   "cell_type": "code",
   "execution_count": 1,
   "metadata": {},
   "outputs": [],
   "source": [
    "import math"
   ]
  },
  {
   "cell_type": "markdown",
   "metadata": {},
   "source": [
    "Carregando o [módulo Python Uncertainties](https://pythonhosted.org/uncertainties/ \"site 'Welcome to the uncertainties package'\"), que calcula a propagação de incertezas:"
   ]
  },
  {
   "cell_type": "code",
   "execution_count": 2,
   "metadata": {},
   "outputs": [],
   "source": [
    "from uncertainties import *"
   ]
  },
  {
   "cell_type": "markdown",
   "metadata": {},
   "source": [
    "### Definindo parâmetros"
   ]
  },
  {
   "cell_type": "markdown",
   "metadata": {},
   "source": [
    "Constante $\\alpha = 4,82 \\times 10^{-3} \\ K^{-1}$"
   ]
  },
  {
   "cell_type": "code",
   "execution_count": 3,
   "metadata": {},
   "outputs": [],
   "source": [
    "alpha = 4.82e-3"
   ]
  },
  {
   "cell_type": "markdown",
   "metadata": {},
   "source": [
    "Constante $\\beta = 6,76 \\times 10^{-7} \\ K^{-2}$"
   ]
  },
  {
   "cell_type": "code",
   "execution_count": 4,
   "metadata": {},
   "outputs": [],
   "source": [
    "beta = 6.76e-7"
   ]
  },
  {
   "cell_type": "markdown",
   "metadata": {},
   "source": [
    "Coeficiente angular: $R_{amb} = (0,174 \\pm 0,001)\\ \\Omega$"
   ]
  },
  {
   "cell_type": "code",
   "execution_count": 5,
   "metadata": {},
   "outputs": [
    {
     "data": {
      "text/plain": [
       "0.174+/-0.001"
      ]
     },
     "execution_count": 5,
     "metadata": {},
     "output_type": "execute_result"
    }
   ],
   "source": [
    "R_amb = ufloat(0.174, 0.001); R_amb"
   ]
  },
  {
   "cell_type": "markdown",
   "metadata": {},
   "source": [
    "Temperatura ambiente: $21^{\\circ}C$"
   ]
  },
  {
   "cell_type": "code",
   "execution_count": 6,
   "metadata": {},
   "outputs": [],
   "source": [
    "t_amb = 21"
   ]
  },
  {
   "cell_type": "markdown",
   "metadata": {},
   "source": [
    "Cálculo da resistência: $R_{0} = \\frac{R_{amb}}{(1 + \\alpha t + \\beta t^{2})}$"
   ]
  },
  {
   "cell_type": "code",
   "execution_count": 7,
   "metadata": {},
   "outputs": [
    {
     "name": "stdout",
     "output_type": "stream",
     "text": [
      "0.158+/-0.001\n"
     ]
    }
   ],
   "source": [
    "R_0 = (R_amb)/(1 + alpha*t_amb + beta*t_amb**2)\n",
    "print(\"{0:.3}\".format(R_0))"
   ]
  },
  {
   "cell_type": "markdown",
   "metadata": {},
   "source": [
    "Calculando a resistência do filamento: $R_{t} = R_0 (1 + \\alpha t + \\beta t^{2})$"
   ]
  },
  {
   "cell_type": "code",
   "execution_count": 8,
   "metadata": {},
   "outputs": [
    {
     "data": {
      "text/plain": [
       "0.174+/-0.001"
      ]
     },
     "execution_count": 8,
     "metadata": {},
     "output_type": "execute_result"
    }
   ],
   "source": [
    "R_t = (R_0)*(1 + alpha*t_amb + beta*t_amb**2); R_t"
   ]
  },
  {
   "cell_type": "markdown",
   "metadata": {},
   "source": [
    "## Propagação de incertezas para um vetor/lista de valores"
   ]
  },
  {
   "cell_type": "markdown",
   "metadata": {},
   "source": [
    "Carregando o [sub-módulo unumpy do módulo Uncertainties](https://pythonhosted.org/uncertainties/numpy_guide.html \"Uncertainties in arrays\") para lidar com vetor/lista de valores com incertezas:"
   ]
  },
  {
   "cell_type": "code",
   "execution_count": 9,
   "metadata": {},
   "outputs": [],
   "source": [
    "from uncertainties import unumpy"
   ]
  },
  {
   "cell_type": "markdown",
   "metadata": {},
   "source": [
    "Definindo os valores da tensão $U(V)$:"
   ]
  },
  {
   "cell_type": "code",
   "execution_count": 10,
   "metadata": {},
   "outputs": [
    {
     "name": "stdout",
     "output_type": "stream",
     "text": [
      "[1.08+/-0.01 1.47+/-0.01 1.9+/-0.01 2.32+/-0.01 2.79+/-0.01 3.3+/-0.02\n",
      " 3.81+/-0.02 4.36+/-0.03 4.95+/-0.03 5.56+/-0.04 6.2+/-0.04]\n"
     ]
    }
   ],
   "source": [
    "U = unumpy.uarray([1.08, 1.47, 1.90, 2.32, 2.79, 3.30, 3.81, 4.36, 4.95, 5.56, 6.20],[0.01, 0.01, 0.01, 0.01, 0.01,\n",
    "0.02, 0.02, 0.03, 0.03, 0.04, 0.04])\n",
    "print(U)"
   ]
  },
  {
   "cell_type": "markdown",
   "metadata": {},
   "source": [
    "Definindo os valores da corrente $(i)$:"
   ]
  },
  {
   "cell_type": "code",
   "execution_count": 11,
   "metadata": {},
   "outputs": [
    {
     "name": "stdout",
     "output_type": "stream",
     "text": [
      "[2.0+/-0.05 2.25+/-0.05 2.5+/-0.06 2.75+/-0.07 3.0+/-0.07 3.25+/-0.08\n",
      " 3.5+/-0.08 3.75+/-0.09 4.0+/-0.09 4.25+/-0.1 4.5+/-0.1]\n"
     ]
    }
   ],
   "source": [
    "i = unumpy.uarray([2.00, 2.25, 2.50, 2.75, 3.00, 3.25, 3.50, 3.75, 4.00, 4.25, 4.50],[0.05, 0.05, 0.06, 0.07, 0.07, 0.08, 0.08, 0.09, 0.09, 0.10, 0.10])\n",
    "print(i)"
   ]
  },
  {
   "cell_type": "markdown",
   "metadata": {},
   "source": [
    "Calculando os valores de $R$"
   ]
  },
  {
   "cell_type": "code",
   "execution_count": 12,
   "metadata": {},
   "outputs": [
    {
     "name": "stdout",
     "output_type": "stream",
     "text": [
      "0.54+/-0.01\n",
      "0.65+/-0.02\n",
      "0.76+/-0.02\n",
      "0.84+/-0.02\n",
      "0.93+/-0.02\n",
      "1.02+/-0.03\n",
      "1.09+/-0.03\n",
      "1.16+/-0.03\n",
      "1.24+/-0.03\n",
      "1.31+/-0.03\n",
      "1.38+/-0.03\n"
     ]
    }
   ],
   "source": [
    "R = U/i\n",
    "for x in R:\n",
    "    print(\"{0:.2f}\".format(x))"
   ]
  },
  {
   "cell_type": "markdown",
   "metadata": {},
   "source": [
    "Temperatura absoluta $(K)$: $T = 273 + \\frac{1}{2\\beta} \\left[\\sqrt{\\alpha^{2} + 4 \\beta \\left(\\frac{R(t)}{R_{0}} - 1 \\right)} - \\alpha \\right]$"
   ]
  },
  {
   "cell_type": "code",
   "execution_count": 13,
   "metadata": {},
   "outputs": [
    {
     "name": "stdout",
     "output_type": "stream",
     "text": [
      "(7.44+/-0.17)e+02\n",
      "(8.73+/-0.18)e+02\n",
      "(9.91+/-0.21)e+02\n",
      "(1.08+/-0.02)e+03\n",
      "(1.17+/-0.02)e+03\n",
      "(1.26+/-0.03)e+03\n",
      "(1.34+/-0.03)e+03\n",
      "(1.41+/-0.03)e+03\n",
      "(1.48+/-0.03)e+03\n",
      "(1.55+/-0.03)e+03\n",
      "(1.62+/-0.03)e+03\n"
     ]
    }
   ],
   "source": [
    "T = 273 + 1/(2*beta) * (unumpy.sqrt(alpha**2 + 4*beta*((R/R_0) - 1)) - alpha)\n",
    "for x in T:\n",
    "    print(\"{0:.2e}\".format(x))"
   ]
  },
  {
   "cell_type": "markdown",
   "metadata": {},
   "source": [
    "Calculando a função logarítmica da temperatura (K)"
   ]
  },
  {
   "cell_type": "code",
   "execution_count": 14,
   "metadata": {},
   "outputs": [
    {
     "name": "stdout",
     "output_type": "stream",
     "text": [
      "6.61+/-0.02\n",
      "6.77+/-0.02\n",
      "6.90+/-0.02\n",
      "6.99+/-0.02\n",
      "7.07+/-0.02\n",
      "7.14+/-0.02\n",
      "7.20+/-0.02\n",
      "7.25+/-0.02\n",
      "7.30+/-0.02\n",
      "7.35+/-0.02\n",
      "7.39+/-0.02\n"
     ]
    }
   ],
   "source": [
    "ln_T = unumpy.log(T)\n",
    "for x in ln_T:\n",
    "    print(\"{0:.2f}\".format(x))"
   ]
  },
  {
   "cell_type": "markdown",
   "metadata": {},
   "source": [
    "Calculando a função logarítmica do fluxo de energia $\\ln U_{t}$:"
   ]
  },
  {
   "cell_type": "code",
   "execution_count": 15,
   "metadata": {},
   "outputs": [
    {
     "name": "stdout",
     "output_type": "stream",
     "text": [
      "0.08+/-0.01\n",
      "0.39+/-0.01\n",
      "0.64+/-0.01\n",
      "0.84+/-0.00\n",
      "1.03+/-0.00\n",
      "1.19+/-0.01\n",
      "1.34+/-0.01\n",
      "1.47+/-0.01\n",
      "1.60+/-0.01\n",
      "1.72+/-0.01\n",
      "1.82+/-0.01\n"
     ]
    }
   ],
   "source": [
    "ln_U = unumpy.log(U)\n",
    "for x in ln_U:\n",
    "    print(\"{0:.2f}\".format(x))"
   ]
  }
 ],
 "metadata": {
  "kernelspec": {
   "display_name": "Python 3",
   "language": "python",
   "name": "python3"
  },
  "language_info": {
   "codemirror_mode": {
    "name": "ipython",
    "version": 3
   },
   "file_extension": ".py",
   "mimetype": "text/x-python",
   "name": "python",
   "nbconvert_exporter": "python",
   "pygments_lexer": "ipython3",
   "version": "3.7.7"
  }
 },
 "nbformat": 4,
 "nbformat_minor": 2
}
