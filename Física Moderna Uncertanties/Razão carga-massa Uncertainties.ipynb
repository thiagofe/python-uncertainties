{
 "cells": [
  {
   "cell_type": "markdown",
   "metadata": {},
   "source": [
    "# Laboratório de Física Moderna\n",
    "## Análise de dados do experimento razão carga/massa\n",
    "###  Autor: Thiago Ferreira Santos"
   ]
  },
  {
   "cell_type": "markdown",
   "metadata": {},
   "source": [
    "## Inicialização do Python (módulos math e uncertainties)"
   ]
  },
  {
   "cell_type": "markdown",
   "metadata": {},
   "source": [
    "Carregando definições e funções matemáticas:"
   ]
  },
  {
   "cell_type": "code",
   "execution_count": 1,
   "metadata": {},
   "outputs": [],
   "source": [
    "import math"
   ]
  },
  {
   "cell_type": "markdown",
   "metadata": {},
   "source": [
    "Carregando o [módulo Python Uncertainties](https://pythonhosted.org/uncertainties/ \"site 'Welcome to the uncertainties package'\"), que calcula a propagação de incertezas:"
   ]
  },
  {
   "cell_type": "code",
   "execution_count": 2,
   "metadata": {},
   "outputs": [],
   "source": [
    "from uncertainties import *"
   ]
  },
  {
   "cell_type": "markdown",
   "metadata": {},
   "source": [
    "## Definição de parâmetros e fórmulas com incertezas"
   ]
  },
  {
   "cell_type": "markdown",
   "metadata": {},
   "source": [
    "Permissividade elétrica no vácuo $\\mu_{0} = 1,257 \\times 10^{-6}$ $Vs/Am$"
   ]
  },
  {
   "cell_type": "code",
   "execution_count": 3,
   "metadata": {},
   "outputs": [],
   "source": [
    "u0 = 1.257e-6"
   ]
  },
  {
   "cell_type": "markdown",
   "metadata": {},
   "source": [
    "Para o arranjo de Helmholtz com duas bobinas, temos: $R = 0,20$ $m$"
   ]
  },
  {
   "cell_type": "code",
   "execution_count": 4,
   "metadata": {},
   "outputs": [],
   "source": [
    "R = 0.20"
   ]
  },
  {
   "cell_type": "markdown",
   "metadata": {},
   "source": [
    "Número de espiras $n = 154$"
   ]
  },
  {
   "cell_type": "code",
   "execution_count": 5,
   "metadata": {},
   "outputs": [],
   "source": [
    "n = 154"
   ]
  },
  {
   "cell_type": "markdown",
   "metadata": {},
   "source": [
    "$r_{1} = 0,02$ $m$"
   ]
  },
  {
   "cell_type": "code",
   "execution_count": 6,
   "metadata": {},
   "outputs": [],
   "source": [
    "r1 = 0.02"
   ]
  },
  {
   "cell_type": "markdown",
   "metadata": {},
   "source": [
    "$r_{2} = 0,03$ $m$"
   ]
  },
  {
   "cell_type": "code",
   "execution_count": 7,
   "metadata": {},
   "outputs": [],
   "source": [
    "r2 = 0.03"
   ]
  },
  {
   "cell_type": "markdown",
   "metadata": {},
   "source": [
    "$r_{3} = 0,04$ $m$"
   ]
  },
  {
   "cell_type": "code",
   "execution_count": 8,
   "metadata": {},
   "outputs": [],
   "source": [
    "r3 = 0.04"
   ]
  },
  {
   "cell_type": "markdown",
   "metadata": {},
   "source": [
    "$r_{4} = 0,05$ $m$"
   ]
  },
  {
   "cell_type": "code",
   "execution_count": 9,
   "metadata": {},
   "outputs": [],
   "source": [
    "r4 = 0.05"
   ]
  },
  {
   "cell_type": "markdown",
   "metadata": {},
   "source": [
    "## Propagação de incertezas para um vetor/lista de valores"
   ]
  },
  {
   "cell_type": "markdown",
   "metadata": {},
   "source": [
    "Carregando o [sub-módulo unumpy do módulo Uncertainties](https://pythonhosted.org/uncertainties/numpy_guide.html \"Uncertainties in arrays\") para lidar com vetor/lista de valores com incertezas :"
   ]
  },
  {
   "cell_type": "code",
   "execution_count": 10,
   "metadata": {},
   "outputs": [],
   "source": [
    "from uncertainties import unumpy"
   ]
  },
  {
   "cell_type": "markdown",
   "metadata": {},
   "source": [
    "Usa-se unumpy.uarray para criar lista de valores com incertezas, com uma lista dos valores nominais (exatos) seguida de uma lista de incertezas:"
   ]
  },
  {
   "cell_type": "markdown",
   "metadata": {},
   "source": [
    "### Determinando razão carga/massa da configuração $r_{1} = 0,02$ $m$"
   ]
  },
  {
   "cell_type": "markdown",
   "metadata": {},
   "source": [
    "Tensão elétrica $U$ $(V)$"
   ]
  },
  {
   "cell_type": "code",
   "execution_count": 11,
   "metadata": {},
   "outputs": [
    {
     "name": "stdout",
     "output_type": "stream",
     "text": [
      "[150.0+/-0.8 170.0+/-0.9 190.0+/-1.0 210.0+/-1.1 230.0+/-1.2 250.0+/-1.3\n",
      " 270.0+/-1.4]\n"
     ]
    }
   ],
   "source": [
    "U1vetor = unumpy.uarray([150, 170, 190, 210, 230, 250, 270],[0.8, 0.9, 1.0, 1.1, 1.2, 1.3, 1.4])\n",
    "print(U1vetor)"
   ]
  },
  {
   "cell_type": "markdown",
   "metadata": {},
   "source": [
    "Corrente elétrica $I$ $(A)$"
   ]
  },
  {
   "cell_type": "code",
   "execution_count": 12,
   "metadata": {},
   "outputs": [
    {
     "name": "stdout",
     "output_type": "stream",
     "text": [
      "[3.27+/-0.3 3.5+/-0.31 3.72+/-0.31 3.89+/-0.32 4.11+/-0.32 4.28+/-0.33\n",
      " 4.39+/-0.33]\n"
     ]
    }
   ],
   "source": [
    "I1vetor = unumpy.uarray([3.27, 3.50, 3.72, 3.89, 4.11, 4.28, 4.39],[0.30, 0.31, 0.31, 0.32, 0.32, 0.33, 0.33])\n",
    "print(I1vetor)"
   ]
  },
  {
   "cell_type": "markdown",
   "metadata": {},
   "source": [
    "Calculando o campo magnético $B = \\left(\\frac{4}{3}\\right)^{\\frac{3}{2}} \\mu_{0} n \\frac{I}{R}$"
   ]
  },
  {
   "cell_type": "code",
   "execution_count": 13,
   "metadata": {},
   "outputs": [
    {
     "name": "stdout",
     "output_type": "stream",
     "text": [
      "Campo magnético = (2.26+/-0.21)e-03 T\n",
      "Campo magnético = (2.42+/-0.21)e-03 T\n",
      "Campo magnético = (2.58+/-0.21)e-03 T\n",
      "Campo magnético = (2.69+/-0.22)e-03 T\n",
      "Campo magnético = (2.85+/-0.22)e-03 T\n",
      "Campo magnético = (2.96+/-0.23)e-03 T\n",
      "Campo magnético = (3.04+/-0.23)e-03 T\n"
     ]
    }
   ],
   "source": [
    "B1vetor = ((4/5)**(3/2))*u0*n*(I1vetor/R)\n",
    "for x in B1vetor:\n",
    "    print(\"Campo magnético = {0:.2e} T\".format(x))"
   ]
  },
  {
   "cell_type": "markdown",
   "metadata": {},
   "source": [
    "Razão carga/massa (e/m)"
   ]
  },
  {
   "cell_type": "code",
   "execution_count": 14,
   "metadata": {},
   "outputs": [
    {
     "name": "stdout",
     "output_type": "stream",
     "text": [
      "Razão carga/massa (e/m) = (1.46+/-0.27)e+11 As/kg\n",
      "Razão carga/massa (e/m) = (1.45+/-0.26)e+11 As/kg\n",
      "Razão carga/massa (e/m) = (1.43+/-0.24)e+11 As/kg\n",
      "Razão carga/massa (e/m) = (1.45+/-0.24)e+11 As/kg\n",
      "Razão carga/massa (e/m) = (1.42+/-0.22)e+11 As/kg\n",
      "Razão carga/massa (e/m) = (1.42+/-0.22)e+11 As/kg\n",
      "Razão carga/massa (e/m) = (1.46+/-0.22)e+11 As/kg\n"
     ]
    }
   ],
   "source": [
    "cargamassa = 2*U1vetor/((r1*B1vetor)**2)\n",
    "for x in cargamassa:\n",
    "    print(\"Razão carga/massa (e/m) = {0:.2e} As/kg\".format(x))"
   ]
  },
  {
   "cell_type": "markdown",
   "metadata": {},
   "source": [
    "### Determinando razão carga/massa da configuração $r_{2} = 0,03$ $m$"
   ]
  },
  {
   "cell_type": "markdown",
   "metadata": {},
   "source": [
    "Tensão elétrica $U$ $(V)$"
   ]
  },
  {
   "cell_type": "code",
   "execution_count": 15,
   "metadata": {},
   "outputs": [
    {
     "name": "stdout",
     "output_type": "stream",
     "text": [
      "[100.0+/-0.8 120.0+/-0.9 140.0+/-1.0 160.0+/-1.1 180.0+/-1.2 200.0+/-1.3\n",
      " 220.0+/-1.4 240.0+/-1.5 260.0+/-1.6 280.0+/-1.7 300.0+/-1.8]\n"
     ]
    }
   ],
   "source": [
    "U2vetor = unumpy.uarray([100, 120, 140, 160, 180, 200, 220, 240, 260, 280, 300],[0.8, 0.9, 1.0, 1.1, 1.2, 1.3, 1.4, 1.5,\n",
    "1.6, 1.7, 1.8])\n",
    "print(U2vetor)"
   ]
  },
  {
   "cell_type": "code",
   "execution_count": 16,
   "metadata": {},
   "outputs": [
    {
     "name": "stdout",
     "output_type": "stream",
     "text": [
      "[3.27+/-0.3 3.5+/-0.31 3.72+/-0.31 3.89+/-0.32 4.11+/-0.32 4.28+/-0.33\n",
      " 4.39+/-0.33]\n"
     ]
    }
   ],
   "source": [
    "I2vetor = unumpy.uarray([2.12, 2.29, 2.42, 2.55, 2.66, 2.81, 2.91, 3.03, 3.13, 3.24, 3.32],[0.26, 0.27, 0.27, 0.28, 0.28, 0.28,\n",
    "0.29, 0.29, 0.29, 0.30, 0.30])\n",
    "print(I1vetor)"
   ]
  },
  {
   "cell_type": "markdown",
   "metadata": {},
   "source": [
    "Calculando o campo magnético $B = \\left(\\frac{4}{3}\\right)^{\\frac{3}{2}} \\mu_{0} n \\frac{I}{R}$"
   ]
  },
  {
   "cell_type": "code",
   "execution_count": 17,
   "metadata": {},
   "outputs": [
    {
     "name": "stdout",
     "output_type": "stream",
     "text": [
      "Campo magnético = (1.47+/-0.18)e-03 T\n",
      "Campo magnético = (1.59+/-0.19)e-03 T\n",
      "Campo magnético = (1.68+/-0.19)e-03 T\n",
      "Campo magnético = (1.77+/-0.19)e-03 T\n",
      "Campo magnético = (1.84+/-0.19)e-03 T\n",
      "Campo magnético = (1.95+/-0.19)e-03 T\n",
      "Campo magnético = (2.02+/-0.20)e-03 T\n",
      "Campo magnético = (2.10+/-0.20)e-03 T\n",
      "Campo magnético = (2.17+/-0.20)e-03 T\n",
      "Campo magnético = (2.24+/-0.21)e-03 T\n",
      "Campo magnético = (2.30+/-0.21)e-03 T\n"
     ]
    }
   ],
   "source": [
    "B2vetor = ((4/5)**(3/2))*u0*n*(I2vetor/R)\n",
    "for x in B2vetor:\n",
    "    print(\"Campo magnético = {0:.2e} T\".format(x))"
   ]
  },
  {
   "cell_type": "markdown",
   "metadata": {},
   "source": [
    "Razão carga/massa (e/m)"
   ]
  },
  {
   "cell_type": "code",
   "execution_count": 18,
   "metadata": {},
   "outputs": [
    {
     "name": "stdout",
     "output_type": "stream",
     "text": [
      "Razão carga/massa (e/m) = (1.03+/-0.25)e+11 As/kg\n",
      "Razão carga/massa (e/m) = (1.06+/-0.25)e+11 As/kg\n",
      "Razão carga/massa (e/m) = (1.11+/-0.25)e+11 As/kg\n",
      "Razão carga/massa (e/m) = (1.14+/-0.25)e+11 As/kg\n",
      "Razão carga/massa (e/m) = (1.18+/-0.25)e+11 As/kg\n",
      "Razão carga/massa (e/m) = (1.17+/-0.23)e+11 As/kg\n",
      "Razão carga/massa (e/m) = (1.20+/-0.24)e+11 As/kg\n",
      "Razão carga/massa (e/m) = (1.21+/-0.23)e+11 As/kg\n",
      "Razão carga/massa (e/m) = (1.23+/-0.23)e+11 As/kg\n",
      "Razão carga/massa (e/m) = (1.24+/-0.23)e+11 As/kg\n",
      "Razão carga/massa (e/m) = (1.26+/-0.23)e+11 As/kg\n"
     ]
    }
   ],
   "source": [
    "cargamassa = 2*U2vetor/((r2*B2vetor)**2)\n",
    "for x in cargamassa:\n",
    "    print(\"Razão carga/massa (e/m) = {0:.2e} As/kg\".format(x))"
   ]
  },
  {
   "cell_type": "markdown",
   "metadata": {},
   "source": [
    "### Determinando razão carga/massa da configuração $r_{3} = 0,04$ $m$"
   ]
  },
  {
   "cell_type": "markdown",
   "metadata": {},
   "source": [
    "Tensão elétrica $U$ $(V)$"
   ]
  },
  {
   "cell_type": "code",
   "execution_count": 19,
   "metadata": {},
   "outputs": [
    {
     "name": "stdout",
     "output_type": "stream",
     "text": [
      "[100.0+/-0.8 120.0+/-0.9 140.0+/-1.0 160.0+/-1.1 180.0+/-1.2 200.0+/-1.3\n",
      " 220.0+/-1.4 240.0+/-1.5 260.0+/-1.6 280.0+/-1.7 300.0+/-1.8]\n"
     ]
    }
   ],
   "source": [
    "U3vetor = unumpy.uarray([100, 120, 140, 160, 180, 200, 220, 240, 260, 280, 300],[0.8, 0.9, 1.0, 1.1, 1.2, 1.3, 1.4, 1.5,\n",
    "1.6, 1.7, 1.8])\n",
    "print(U3vetor)"
   ]
  },
  {
   "cell_type": "markdown",
   "metadata": {},
   "source": [
    "Corrente elétrica $I$ $(A)$"
   ]
  },
  {
   "cell_type": "code",
   "execution_count": 20,
   "metadata": {},
   "outputs": [
    {
     "name": "stdout",
     "output_type": "stream",
     "text": [
      "[1.56+/-0.25 1.69+/-0.25 1.79+/-0.25 1.91+/-0.26 1.99+/-0.26 2.06+/-0.26\n",
      " 2.15+/-0.26 2.25+/-0.27 2.3+/-0.27 2.4+/-0.27 2.45+/-0.27]\n"
     ]
    }
   ],
   "source": [
    "I3vetor = unumpy.uarray([1.56, 1.69, 1.79, 1.91, 1.99, 2.06, 2.15, 2.25, 2.30, 2.40, 2.45],[0.25, 0.25, 0.25, 0.26, 0.26,\n",
    "0.26, 0.26, 0.27, 0.27, 0.27, 0.27])\n",
    "print(I3vetor)"
   ]
  },
  {
   "cell_type": "markdown",
   "metadata": {},
   "source": [
    "Calculando o campo magnético $B = \\left(\\frac{4}{3}\\right)^{\\frac{3}{2}} \\mu_{0} n \\frac{I}{R}$"
   ]
  },
  {
   "cell_type": "code",
   "execution_count": 21,
   "metadata": {},
   "outputs": [
    {
     "name": "stdout",
     "output_type": "stream",
     "text": [
      "Campo magnético = (1.08+/-0.17)e-03 T\n",
      "Campo magnético = (1.17+/-0.17)e-03 T\n",
      "Campo magnético = (1.24+/-0.17)e-03 T\n",
      "Campo magnético = (1.32+/-0.18)e-03 T\n",
      "Campo magnético = (1.38+/-0.18)e-03 T\n",
      "Campo magnético = (1.43+/-0.18)e-03 T\n",
      "Campo magnético = (1.49+/-0.18)e-03 T\n",
      "Campo magnético = (1.56+/-0.19)e-03 T\n",
      "Campo magnético = (1.59+/-0.19)e-03 T\n",
      "Campo magnético = (1.66+/-0.19)e-03 T\n",
      "Campo magnético = (1.70+/-0.19)e-03 T\n"
     ]
    }
   ],
   "source": [
    "B3vetor = ((4/5)**(3/2))*u0*n*(I3vetor/R)\n",
    "for x in B3vetor:\n",
    "    print(\"Campo magnético = {0:.2e} T\".format(x))"
   ]
  },
  {
   "cell_type": "markdown",
   "metadata": {},
   "source": [
    "Razão carga/massa (e/m)"
   ]
  },
  {
   "cell_type": "code",
   "execution_count": 22,
   "metadata": {},
   "outputs": [
    {
     "name": "stdout",
     "output_type": "stream",
     "text": [
      "Razão carga/massa (e/m) = (1.07+/-0.34)e+11 As/kg\n",
      "Razão carga/massa (e/m) = (1.09+/-0.32)e+11 As/kg\n",
      "Razão carga/massa (e/m) = (1.14+/-0.32)e+11 As/kg\n",
      "Razão carga/massa (e/m) = (1.14+/-0.31)e+11 As/kg\n",
      "Razão carga/massa (e/m) = (1.18+/-0.31)e+11 As/kg\n",
      "Razão carga/massa (e/m) = (1.23+/-0.31)e+11 As/kg\n",
      "Razão carga/massa (e/m) = (1.24+/-0.30)e+11 As/kg\n",
      "Razão carga/massa (e/m) = (1.24+/-0.30)e+11 As/kg\n",
      "Razão carga/massa (e/m) = (1.28+/-0.30)e+11 As/kg\n",
      "Razão carga/massa (e/m) = (1.27+/-0.29)e+11 As/kg\n",
      "Razão carga/massa (e/m) = (1.30+/-0.29)e+11 As/kg\n"
     ]
    }
   ],
   "source": [
    "cargamassa = 2*U3vetor/((r3*B3vetor)**2)\n",
    "for x in cargamassa:\n",
    "    print(\"Razão carga/massa (e/m) = {0:.2e} As/kg\".format(x))"
   ]
  },
  {
   "cell_type": "markdown",
   "metadata": {},
   "source": [
    "### Determinando razão carga/massa da configuração $r_{4} = 0,05$ $m$"
   ]
  },
  {
   "cell_type": "markdown",
   "metadata": {},
   "source": [
    "Tensão elétrica $U$ $(V)$"
   ]
  },
  {
   "cell_type": "code",
   "execution_count": 23,
   "metadata": {},
   "outputs": [
    {
     "name": "stdout",
     "output_type": "stream",
     "text": [
      "[100.0+/-0.8 120.0+/-0.9 140.0+/-1.0 160.0+/-1.1 180.0+/-1.2 200.0+/-1.3\n",
      " 220.0+/-1.4 240.0+/-1.5 260.0+/-1.6 280.0+/-1.7 300.0+/-1.8]\n"
     ]
    }
   ],
   "source": [
    "U4vetor = unumpy.uarray([100, 120, 140, 160, 180, 200, 220, 240, 260, 280, 300],[0.8, 0.9, 1.0, 1.1, 1.2, 1.3, 1.4, 1.5,\n",
    "1.6, 1.7, 1.8])\n",
    "print(U4vetor)"
   ]
  },
  {
   "cell_type": "markdown",
   "metadata": {},
   "source": [
    "Corrente elétrica $I$ $(A)$"
   ]
  },
  {
   "cell_type": "code",
   "execution_count": 24,
   "metadata": {},
   "outputs": [
    {
     "name": "stdout",
     "output_type": "stream",
     "text": [
      "[1.23+/-0.24 1.32+/-0.24 1.43+/-0.24 1.51+/-0.25 1.58+/-0.25 1.63+/-0.25\n",
      " 1.72+/-0.25 1.78+/-0.25 1.85+/-0.26 1.89+/-0.26 1.97+/-0.26]\n"
     ]
    }
   ],
   "source": [
    "I4vetor = unumpy.uarray([1.23, 1.32, 1.43, 1.51, 1.58, 1.63, 1.72, 1.78, 1.85, 1.89, 1.97],[0.24, 0.24, 0.24, 0.25, 0.25,\n",
    "0.25, 0.25, 0.25, 0.26, 0.26, 0.26])\n",
    "print(I4vetor)"
   ]
  },
  {
   "cell_type": "markdown",
   "metadata": {},
   "source": [
    "Calculando o campo magnético $B = \\left(\\frac{4}{3}\\right)^{\\frac{3}{2}} \\mu_{0} n \\frac{I}{R}$"
   ]
  },
  {
   "cell_type": "code",
   "execution_count": 25,
   "metadata": {},
   "outputs": [
    {
     "name": "stdout",
     "output_type": "stream",
     "text": [
      "Campo magnético = (8.52+/-1.66)e-04 T\n",
      "Campo magnético = (9.14+/-1.66)e-04 T\n",
      "Campo magnético = (9.90+/-1.66)e-04 T\n",
      "Campo magnético = (1.05+/-0.17)e-03 T\n",
      "Campo magnético = (1.09+/-0.17)e-03 T\n",
      "Campo magnético = (1.13+/-0.17)e-03 T\n",
      "Campo magnético = (1.19+/-0.17)e-03 T\n",
      "Campo magnético = (1.23+/-0.17)e-03 T\n",
      "Campo magnético = (1.28+/-0.18)e-03 T\n",
      "Campo magnético = (1.31+/-0.18)e-03 T\n",
      "Campo magnético = (1.36+/-0.18)e-03 T\n"
     ]
    }
   ],
   "source": [
    "B4vetor = ((4/5)**(3/2))*u0*n*(I4vetor/R)\n",
    "for x in B4vetor:\n",
    "    print(\"Campo magnético = {0:.2e} T\".format(x))"
   ]
  },
  {
   "cell_type": "markdown",
   "metadata": {},
   "source": [
    "Razão carga/massa (e/m)"
   ]
  },
  {
   "cell_type": "code",
   "execution_count": 26,
   "metadata": {},
   "outputs": [
    {
     "name": "stdout",
     "output_type": "stream",
     "text": [
      "Razão carga/massa (e/m) = (1.10+/-0.43)e+11 As/kg\n",
      "Razão carga/massa (e/m) = (1.15+/-0.42)e+11 As/kg\n",
      "Razão carga/massa (e/m) = (1.14+/-0.38)e+11 As/kg\n",
      "Razão carga/massa (e/m) = (1.17+/-0.39)e+11 As/kg\n",
      "Razão carga/massa (e/m) = (1.20+/-0.38)e+11 As/kg\n",
      "Razão carga/massa (e/m) = (1.26+/-0.39)e+11 As/kg\n",
      "Razão carga/massa (e/m) = (1.24+/-0.36)e+11 As/kg\n",
      "Razão carga/massa (e/m) = (1.26+/-0.35)e+11 As/kg\n",
      "Razão carga/massa (e/m) = (1.27+/-0.36)e+11 As/kg\n",
      "Razão carga/massa (e/m) = (1.31+/-0.36)e+11 As/kg\n",
      "Razão carga/massa (e/m) = (1.29+/-0.34)e+11 As/kg\n"
     ]
    }
   ],
   "source": [
    "cargamassa = 2*U4vetor/((r4*B4vetor)**2)\n",
    "for x in cargamassa:\n",
    "    print(\"Razão carga/massa (e/m) = {0:.2e} As/kg\".format(x))"
   ]
  }
 ],
 "metadata": {
  "kernelspec": {
   "display_name": "Python 3",
   "language": "python",
   "name": "python3"
  },
  "language_info": {
   "codemirror_mode": {
    "name": "ipython",
    "version": 3
   },
   "file_extension": ".py",
   "mimetype": "text/x-python",
   "name": "python",
   "nbconvert_exporter": "python",
   "pygments_lexer": "ipython3",
   "version": "3.7.6"
  }
 },
 "nbformat": 4,
 "nbformat_minor": 2
}
